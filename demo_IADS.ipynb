{
  "nbformat": 4,
  "nbformat_minor": 0,
  "metadata": {
    "colab": {
      "name": "demo_IADS.ipynb",
      "provenance": [],
      "authorship_tag": "ABX9TyOmRbQm5XDtaPZPD04Xv7rE",
      "include_colab_link": true
    },
    "kernelspec": {
      "name": "python3",
      "display_name": "Python 3"
    },
    "language_info": {
      "name": "python"
    }
  },
  "cells": [
    {
      "cell_type": "markdown",
      "metadata": {
        "id": "view-in-github",
        "colab_type": "text"
      },
      "source": [
        "<a href=\"https://colab.research.google.com/github/andrianatheod/IADS_python/blob/main/demo_IADS.ipynb\" target=\"_parent\"><img src=\"https://colab.research.google.com/assets/colab-badge.svg\" alt=\"Open In Colab\"/></a>"
      ]
    },
    {
      "cell_type": "markdown",
      "metadata": {
        "id": "li_UINHaBW9Y"
      },
      "source": [
        "# IADS Summet school\n",
        "## Hello Everyone\n",
        "### Hi\n",
        "\n",
        "\n",
        "\n",
        "This is my **fisrt** code "
      ]
    },
    {
      "cell_type": "code",
      "metadata": {
        "colab": {
          "base_uri": "https://localhost:8080/"
        },
        "id": "Jb8_Yt1A_uAI",
        "outputId": "8bfae4ed-607a-4145-d4c9-4968e48c2e19"
      },
      "source": [
        "# This is my comment line\n",
        "print ('summer school')"
      ],
      "execution_count": 2,
      "outputs": [
        {
          "output_type": "stream",
          "text": [
            "summer school\n"
          ],
          "name": "stdout"
        }
      ]
    },
    {
      "cell_type": "markdown",
      "metadata": {
        "id": "tgGxqjxwAp5N"
      },
      "source": [
        ""
      ]
    },
    {
      "cell_type": "markdown",
      "metadata": {
        "id": "-64Eql5GAQuH"
      },
      "source": [
        ""
      ]
    }
  ]
}