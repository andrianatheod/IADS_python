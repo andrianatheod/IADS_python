{
  "nbformat": 4,
  "nbformat_minor": 0,
  "metadata": {
    "colab": {
      "name": "demo_IADS.ipynb",
      "provenance": [],
      "authorship_tag": "ABX9TyMi1GE2Hj3b575cNstaI/QK",
      "include_colab_link": true
    },
    "kernelspec": {
      "name": "python3",
      "display_name": "Python 3"
    },
    "language_info": {
      "name": "python"
    }
  },
  "cells": [
    {
      "cell_type": "markdown",
      "metadata": {
        "id": "view-in-github",
        "colab_type": "text"
      },
      "source": [
        "<a href=\"https://colab.research.google.com/github/andrianatheod/IADS_python/blob/main/demo_IADS.ipynb\" target=\"_parent\"><img src=\"https://colab.research.google.com/assets/colab-badge.svg\" alt=\"Open In Colab\"/></a>"
      ]
    },
    {
      "cell_type": "markdown",
      "metadata": {
        "id": "li_UINHaBW9Y"
      },
      "source": [
        "# IADS Summer school\n",
        "## Hello Everyone\n",
        "### Hi\n",
        "\n",
        "\n",
        "\n",
        "This is my **fisrt** code "
      ]
    },
    {
      "cell_type": "code",
      "metadata": {
        "colab": {
          "base_uri": "https://localhost:8080/"
        },
        "id": "Jb8_Yt1A_uAI",
        "outputId": "8bfae4ed-607a-4145-d4c9-4968e48c2e19"
      },
      "source": [
        "# This is my comment line\n",
        "print ('summer school')"
      ],
      "execution_count": null,
      "outputs": [
        {
          "output_type": "stream",
          "text": [
            "summer school\n"
          ],
          "name": "stdout"
        }
      ]
    },
    {
      "cell_type": "markdown",
      "metadata": {
        "id": "-Nd3L94OE8wU"
      },
      "source": [
        "$x^2"
      ]
    },
    {
      "cell_type": "code",
      "metadata": {
        "id": "SNNQbGDHGsbY"
      },
      "source": [
        "#install package\n",
        "! pip install "
      ],
      "execution_count": null,
      "outputs": []
    },
    {
      "cell_type": "code",
      "metadata": {
        "id": "d_tYuzKNH-FK",
        "outputId": "388ae820-1455-45db-d43c-cfd2dc1d0d7b",
        "colab": {
          "base_uri": "https://localhost:8080/"
        }
      },
      "source": [
        "if 10 > 8:\n",
        "  print (\"Ten is greateer than eight!\")"
      ],
      "execution_count": 1,
      "outputs": [
        {
          "output_type": "stream",
          "text": [
            "Ten is greateer than eight!\n"
          ],
          "name": "stdout"
        }
      ]
    },
    {
      "cell_type": "markdown",
      "metadata": {
        "id": "tgGxqjxwAp5N"
      },
      "source": [
        ""
      ]
    },
    {
      "cell_type": "markdown",
      "metadata": {
        "id": "-64Eql5GAQuH"
      },
      "source": [
        ""
      ]
    }
  ]
}